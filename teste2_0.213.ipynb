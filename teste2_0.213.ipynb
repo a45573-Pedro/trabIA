{
 "cells": [
  {
   "cell_type": "code",
   "execution_count": 1,
   "metadata": {},
   "outputs": [],
   "source": [
    "# Importar bibliotecas\n",
    "import pandas as pd\n",
    "import numpy as np\n",
    "import seaborn as sns\n",
    "import matplotlib.pyplot as plt\n",
    "from sklearn.model_selection import train_test_split, GridSearchCV\n",
    "from sklearn.svm import SVR\n",
    "from sklearn.preprocessing import StandardScaler, OneHotEncoder\n",
    "from sklearn.compose import ColumnTransformer\n",
    "from sklearn.pipeline import Pipeline\n",
    "from sklearn.metrics import r2_score"
   ]
  },
  {
   "cell_type": "code",
   "execution_count": 2,
   "metadata": {},
   "outputs": [],
   "source": [
    "# Carregar datasets como CSV\n",
    "dataset = pd.read_csv('dataset.csv')\n",
    "features = pd.read_csv('just_features.csv')"
   ]
  },
  {
   "cell_type": "code",
   "execution_count": 3,
   "metadata": {},
   "outputs": [
    {
     "name": "stdout",
     "output_type": "stream",
     "text": [
      "Dataset:\n",
      "      genero estado_civil zona_residencia   imc fumador       class_etaria  \\\n",
      "0  masculino       casado       suburbana  35.8     sim  adulto_meia_idade   \n",
      "1   feminino     separado          urbana  39.3     nao      adulto_senior   \n",
      "2  masculino     solteiro           rural  40.7     nao              jovem   \n",
      "3  masculino       casado          urbana  28.2     sim  adulto_meia_idade   \n",
      "4   feminino     solteiro          urbana  31.1     nao      adulto_senior   \n",
      "\n",
      "     custo  \n",
      "0  18213.9  \n",
      "1   4266.4  \n",
      "2    854.6  \n",
      "3  10169.7  \n",
      "4   4151.5  \n",
      "\n",
      "Just Features:\n",
      "      genero estado_civil zona_residencia   imc fumador       class_etaria\n",
      "0   feminino       casado       suburbana  25.6     sim  adulto_meia_idade\n",
      "1   feminino       casado       suburbana  23.1     sim      adulto_senior\n",
      "2  masculino     solteiro       suburbana  26.3     nao        adolescente\n",
      "3   feminino     solteiro       suburbana  27.0     nao        adolescente\n",
      "4   feminino       casado           rural  32.6     nao      adulto_senior\n"
     ]
    }
   ],
   "source": [
    "# Visualizar os dados carregados\n",
    "print(\"Dataset:\")\n",
    "print(dataset.head())\n",
    "print(\"\\nJust Features:\")\n",
    "print(features.head())"
   ]
  },
  {
   "cell_type": "code",
   "execution_count": 4,
   "metadata": {},
   "outputs": [],
   "source": [
    "# Separar features e target\n",
    "X = dataset.drop(columns=['custo'])\n",
    "y = dataset['custo']"
   ]
  },
  {
   "cell_type": "code",
   "execution_count": 5,
   "metadata": {},
   "outputs": [],
   "source": [
    "# Identificar colunas categóricas e numéricas\n",
    "categorical_features = ['genero', 'estado_civil', 'zona_residencia', 'fumador', 'class_etaria']\n",
    "numerical_features = ['imc']"
   ]
  },
  {
   "cell_type": "code",
   "execution_count": 6,
   "metadata": {},
   "outputs": [],
   "source": [
    "# Configurar transformadores\n",
    "numeric_transformer = StandardScaler()\n",
    "categorical_transformer = OneHotEncoder(handle_unknown='ignore')"
   ]
  },
  {
   "cell_type": "code",
   "execution_count": 7,
   "metadata": {},
   "outputs": [],
   "source": [
    "# Criar o preprocessador\n",
    "preprocessor = ColumnTransformer(\n",
    "    transformers=[\n",
    "        ('num', numeric_transformer, numerical_features),\n",
    "        ('cat', categorical_transformer, categorical_features)\n",
    "    ])"
   ]
  },
  {
   "cell_type": "code",
   "execution_count": 8,
   "metadata": {},
   "outputs": [],
   "source": [
    "# Pipeline do modelo\n",
    "model_pipeline = Pipeline(steps=[\n",
    "    ('preprocessor', preprocessor),\n",
    "    ('regressor', SVR())\n",
    "])"
   ]
  },
  {
   "cell_type": "code",
   "execution_count": 9,
   "metadata": {},
   "outputs": [],
   "source": [
    "# Dividir os dados em treino e teste\n",
    "X_train, X_test, y_train, y_test = train_test_split(X, y, test_size=0.2, random_state=42)"
   ]
  },
  {
   "cell_type": "code",
   "execution_count": 10,
   "metadata": {},
   "outputs": [],
   "source": [
    "# Configurar GridSearch para otimização\n",
    "param_grid = {\n",
    "    'regressor__C': [0.1, 1, 10, 100],\n",
    "    'regressor__epsilon': [0.1, 0.2, 0.5],\n",
    "    'regressor__kernel': ['linear', 'rbf', 'poly'],\n",
    "    'regressor__gamma': ['scale', 'auto']\n",
    "}"
   ]
  },
  {
   "cell_type": "code",
   "execution_count": null,
   "metadata": {},
   "outputs": [
    {
     "name": "stdout",
     "output_type": "stream",
     "text": [
      "Treinando o modelo...\n",
      "Fitting 5 folds for each of 72 candidates, totalling 360 fits\n",
      "[CV] END regressor__C=0.1, regressor__epsilon=0.1, regressor__gamma=scale, regressor__kernel=linear; total time=   0.0s\n",
      "[CV] END regressor__C=0.1, regressor__epsilon=0.1, regressor__gamma=scale, regressor__kernel=linear; total time=   0.0s\n",
      "[CV] END regressor__C=0.1, regressor__epsilon=0.1, regressor__gamma=scale, regressor__kernel=linear; total time=   0.0s\n",
      "[CV] END regressor__C=0.1, regressor__epsilon=0.1, regressor__gamma=scale, regressor__kernel=linear; total time=   0.0s\n",
      "[CV] END regressor__C=0.1, regressor__epsilon=0.1, regressor__gamma=scale, regressor__kernel=linear; total time=   0.0s\n",
      "[CV] END regressor__C=0.1, regressor__epsilon=0.1, regressor__gamma=scale, regressor__kernel=rbf; total time=   0.0s\n",
      "[CV] END regressor__C=0.1, regressor__epsilon=0.1, regressor__gamma=scale, regressor__kernel=rbf; total time=   0.0s\n",
      "[CV] END regressor__C=0.1, regressor__epsilon=0.1, regressor__gamma=scale, regressor__kernel=rbf; total time=   0.0s\n",
      "[CV] END regressor__C=0.1, regressor__epsilon=0.1, regressor__gamma=scale, regressor__kernel=rbf; total time=   0.0s\n",
      "[CV] END regressor__C=0.1, regressor__epsilon=0.1, regressor__gamma=scale, regressor__kernel=rbf; total time=   0.0s\n",
      "[CV] END regressor__C=0.1, regressor__epsilon=0.1, regressor__gamma=scale, regressor__kernel=poly; total time=   0.0s\n",
      "[CV] END regressor__C=0.1, regressor__epsilon=0.1, regressor__gamma=scale, regressor__kernel=poly; total time=   0.0s\n",
      "[CV] END regressor__C=0.1, regressor__epsilon=0.1, regressor__gamma=scale, regressor__kernel=poly; total time=   0.0s\n",
      "[CV] END regressor__C=0.1, regressor__epsilon=0.1, regressor__gamma=scale, regressor__kernel=poly; total time=   0.0s\n",
      "[CV] END regressor__C=0.1, regressor__epsilon=0.1, regressor__gamma=scale, regressor__kernel=poly; total time=   0.0s\n",
      "[CV] END regressor__C=0.1, regressor__epsilon=0.1, regressor__gamma=auto, regressor__kernel=linear; total time=   0.0s\n",
      "[CV] END regressor__C=0.1, regressor__epsilon=0.1, regressor__gamma=auto, regressor__kernel=linear; total time=   0.0s\n",
      "[CV] END regressor__C=0.1, regressor__epsilon=0.1, regressor__gamma=auto, regressor__kernel=linear; total time=   0.0s\n",
      "[CV] END regressor__C=0.1, regressor__epsilon=0.1, regressor__gamma=auto, regressor__kernel=linear; total time=   0.0s\n",
      "[CV] END regressor__C=0.1, regressor__epsilon=0.1, regressor__gamma=auto, regressor__kernel=linear; total time=   0.0s\n",
      "[CV] END regressor__C=0.1, regressor__epsilon=0.1, regressor__gamma=auto, regressor__kernel=rbf; total time=   0.0s\n",
      "[CV] END regressor__C=0.1, regressor__epsilon=0.1, regressor__gamma=auto, regressor__kernel=rbf; total time=   0.0s\n",
      "[CV] END regressor__C=0.1, regressor__epsilon=0.1, regressor__gamma=auto, regressor__kernel=rbf; total time=   0.0s\n",
      "[CV] END regressor__C=0.1, regressor__epsilon=0.1, regressor__gamma=auto, regressor__kernel=rbf; total time=   0.0s\n",
      "[CV] END regressor__C=0.1, regressor__epsilon=0.1, regressor__gamma=auto, regressor__kernel=rbf; total time=   0.0s\n",
      "[CV] END regressor__C=0.1, regressor__epsilon=0.1, regressor__gamma=auto, regressor__kernel=poly; total time=   0.0s\n",
      "[CV] END regressor__C=0.1, regressor__epsilon=0.1, regressor__gamma=auto, regressor__kernel=poly; total time=   0.0s\n",
      "[CV] END regressor__C=0.1, regressor__epsilon=0.1, regressor__gamma=auto, regressor__kernel=poly; total time=   0.0s\n",
      "[CV] END regressor__C=0.1, regressor__epsilon=0.1, regressor__gamma=auto, regressor__kernel=poly; total time=   0.0s\n",
      "[CV] END regressor__C=0.1, regressor__epsilon=0.1, regressor__gamma=auto, regressor__kernel=poly; total time=   0.0s\n",
      "[CV] END regressor__C=0.1, regressor__epsilon=0.2, regressor__gamma=scale, regressor__kernel=linear; total time=   0.0s\n",
      "[CV] END regressor__C=0.1, regressor__epsilon=0.2, regressor__gamma=scale, regressor__kernel=linear; total time=   0.0s\n",
      "[CV] END regressor__C=0.1, regressor__epsilon=0.2, regressor__gamma=scale, regressor__kernel=linear; total time=   0.0s\n",
      "[CV] END regressor__C=0.1, regressor__epsilon=0.2, regressor__gamma=scale, regressor__kernel=linear; total time=   0.0s\n",
      "[CV] END regressor__C=0.1, regressor__epsilon=0.2, regressor__gamma=scale, regressor__kernel=linear; total time=   0.0s\n",
      "[CV] END regressor__C=0.1, regressor__epsilon=0.2, regressor__gamma=scale, regressor__kernel=rbf; total time=   0.0s\n",
      "[CV] END regressor__C=0.1, regressor__epsilon=0.2, regressor__gamma=scale, regressor__kernel=rbf; total time=   0.0s\n",
      "[CV] END regressor__C=0.1, regressor__epsilon=0.2, regressor__gamma=scale, regressor__kernel=rbf; total time=   0.0s\n",
      "[CV] END regressor__C=0.1, regressor__epsilon=0.2, regressor__gamma=scale, regressor__kernel=rbf; total time=   0.0s\n",
      "[CV] END regressor__C=0.1, regressor__epsilon=0.2, regressor__gamma=scale, regressor__kernel=rbf; total time=   0.0s\n",
      "[CV] END regressor__C=0.1, regressor__epsilon=0.2, regressor__gamma=scale, regressor__kernel=poly; total time=   0.0s\n",
      "[CV] END regressor__C=0.1, regressor__epsilon=0.2, regressor__gamma=scale, regressor__kernel=poly; total time=   0.0s\n",
      "[CV] END regressor__C=0.1, regressor__epsilon=0.2, regressor__gamma=scale, regressor__kernel=poly; total time=   0.0s\n",
      "[CV] END regressor__C=0.1, regressor__epsilon=0.2, regressor__gamma=scale, regressor__kernel=poly; total time=   0.0s\n",
      "[CV] END regressor__C=0.1, regressor__epsilon=0.2, regressor__gamma=scale, regressor__kernel=poly; total time=   0.0s\n",
      "[CV] END regressor__C=0.1, regressor__epsilon=0.2, regressor__gamma=auto, regressor__kernel=linear; total time=   0.0s\n",
      "[CV] END regressor__C=0.1, regressor__epsilon=0.2, regressor__gamma=auto, regressor__kernel=linear; total time=   0.0s\n",
      "[CV] END regressor__C=0.1, regressor__epsilon=0.2, regressor__gamma=auto, regressor__kernel=linear; total time=   0.0s\n",
      "[CV] END regressor__C=0.1, regressor__epsilon=0.2, regressor__gamma=auto, regressor__kernel=linear; total time=   0.0s\n",
      "[CV] END regressor__C=0.1, regressor__epsilon=0.2, regressor__gamma=auto, regressor__kernel=linear; total time=   0.0s\n",
      "[CV] END regressor__C=0.1, regressor__epsilon=0.2, regressor__gamma=auto, regressor__kernel=rbf; total time=   0.0s\n",
      "[CV] END regressor__C=0.1, regressor__epsilon=0.2, regressor__gamma=auto, regressor__kernel=rbf; total time=   0.0s\n",
      "[CV] END regressor__C=0.1, regressor__epsilon=0.2, regressor__gamma=auto, regressor__kernel=rbf; total time=   0.0s\n",
      "[CV] END regressor__C=0.1, regressor__epsilon=0.2, regressor__gamma=auto, regressor__kernel=rbf; total time=   0.0s\n",
      "[CV] END regressor__C=0.1, regressor__epsilon=0.2, regressor__gamma=auto, regressor__kernel=rbf; total time=   0.0s\n",
      "[CV] END regressor__C=0.1, regressor__epsilon=0.2, regressor__gamma=auto, regressor__kernel=poly; total time=   0.0s\n",
      "[CV] END regressor__C=0.1, regressor__epsilon=0.2, regressor__gamma=auto, regressor__kernel=poly; total time=   0.0s\n",
      "[CV] END regressor__C=0.1, regressor__epsilon=0.2, regressor__gamma=auto, regressor__kernel=poly; total time=   0.0s\n",
      "[CV] END regressor__C=0.1, regressor__epsilon=0.2, regressor__gamma=auto, regressor__kernel=poly; total time=   0.0s\n",
      "[CV] END regressor__C=0.1, regressor__epsilon=0.2, regressor__gamma=auto, regressor__kernel=poly; total time=   0.0s\n",
      "[CV] END regressor__C=0.1, regressor__epsilon=0.5, regressor__gamma=scale, regressor__kernel=linear; total time=   0.0s\n",
      "[CV] END regressor__C=0.1, regressor__epsilon=0.5, regressor__gamma=scale, regressor__kernel=linear; total time=   0.0s\n",
      "[CV] END regressor__C=0.1, regressor__epsilon=0.5, regressor__gamma=scale, regressor__kernel=linear; total time=   0.0s\n",
      "[CV] END regressor__C=0.1, regressor__epsilon=0.5, regressor__gamma=scale, regressor__kernel=linear; total time=   0.0s\n",
      "[CV] END regressor__C=0.1, regressor__epsilon=0.5, regressor__gamma=scale, regressor__kernel=linear; total time=   0.0s\n",
      "[CV] END regressor__C=0.1, regressor__epsilon=0.5, regressor__gamma=scale, regressor__kernel=rbf; total time=   0.0s\n",
      "[CV] END regressor__C=0.1, regressor__epsilon=0.5, regressor__gamma=scale, regressor__kernel=rbf; total time=   0.0s\n",
      "[CV] END regressor__C=0.1, regressor__epsilon=0.5, regressor__gamma=scale, regressor__kernel=rbf; total time=   0.0s\n",
      "[CV] END regressor__C=0.1, regressor__epsilon=0.5, regressor__gamma=scale, regressor__kernel=rbf; total time=   0.0s\n",
      "[CV] END regressor__C=0.1, regressor__epsilon=0.5, regressor__gamma=scale, regressor__kernel=rbf; total time=   0.0s\n",
      "[CV] END regressor__C=0.1, regressor__epsilon=0.5, regressor__gamma=scale, regressor__kernel=poly; total time=   0.0s\n",
      "[CV] END regressor__C=0.1, regressor__epsilon=0.5, regressor__gamma=scale, regressor__kernel=poly; total time=   0.0s\n",
      "[CV] END regressor__C=0.1, regressor__epsilon=0.5, regressor__gamma=scale, regressor__kernel=poly; total time=   0.0s\n",
      "[CV] END regressor__C=0.1, regressor__epsilon=0.5, regressor__gamma=scale, regressor__kernel=poly; total time=   0.0s\n",
      "[CV] END regressor__C=0.1, regressor__epsilon=0.5, regressor__gamma=scale, regressor__kernel=poly; total time=   0.0s\n",
      "[CV] END regressor__C=0.1, regressor__epsilon=0.5, regressor__gamma=auto, regressor__kernel=linear; total time=   0.0s\n",
      "[CV] END regressor__C=0.1, regressor__epsilon=0.5, regressor__gamma=auto, regressor__kernel=linear; total time=   0.0s\n",
      "[CV] END regressor__C=0.1, regressor__epsilon=0.5, regressor__gamma=auto, regressor__kernel=linear; total time=   0.0s\n",
      "[CV] END regressor__C=0.1, regressor__epsilon=0.5, regressor__gamma=auto, regressor__kernel=linear; total time=   0.0s\n",
      "[CV] END regressor__C=0.1, regressor__epsilon=0.5, regressor__gamma=auto, regressor__kernel=linear; total time=   0.0s\n",
      "[CV] END regressor__C=0.1, regressor__epsilon=0.5, regressor__gamma=auto, regressor__kernel=rbf; total time=   0.0s\n",
      "[CV] END regressor__C=0.1, regressor__epsilon=0.5, regressor__gamma=auto, regressor__kernel=rbf; total time=   0.0s\n",
      "[CV] END regressor__C=0.1, regressor__epsilon=0.5, regressor__gamma=auto, regressor__kernel=rbf; total time=   0.0s\n",
      "[CV] END regressor__C=0.1, regressor__epsilon=0.5, regressor__gamma=auto, regressor__kernel=rbf; total time=   0.0s\n",
      "[CV] END regressor__C=0.1, regressor__epsilon=0.5, regressor__gamma=auto, regressor__kernel=rbf; total time=   0.0s\n",
      "[CV] END regressor__C=0.1, regressor__epsilon=0.5, regressor__gamma=auto, regressor__kernel=poly; total time=   0.0s\n",
      "[CV] END regressor__C=0.1, regressor__epsilon=0.5, regressor__gamma=auto, regressor__kernel=poly; total time=   0.0s\n",
      "[CV] END regressor__C=0.1, regressor__epsilon=0.5, regressor__gamma=auto, regressor__kernel=poly; total time=   0.0s\n",
      "[CV] END regressor__C=0.1, regressor__epsilon=0.5, regressor__gamma=auto, regressor__kernel=poly; total time=   0.0s\n",
      "[CV] END regressor__C=0.1, regressor__epsilon=0.5, regressor__gamma=auto, regressor__kernel=poly; total time=   0.0s\n",
      "[CV] END regressor__C=1, regressor__epsilon=0.1, regressor__gamma=scale, regressor__kernel=linear; total time=   0.0s\n",
      "[CV] END regressor__C=1, regressor__epsilon=0.1, regressor__gamma=scale, regressor__kernel=linear; total time=   0.0s\n",
      "[CV] END regressor__C=1, regressor__epsilon=0.1, regressor__gamma=scale, regressor__kernel=linear; total time=   0.0s\n",
      "[CV] END regressor__C=1, regressor__epsilon=0.1, regressor__gamma=scale, regressor__kernel=linear; total time=   0.0s\n",
      "[CV] END regressor__C=1, regressor__epsilon=0.1, regressor__gamma=scale, regressor__kernel=linear; total time=   0.0s\n",
      "[CV] END regressor__C=1, regressor__epsilon=0.1, regressor__gamma=scale, regressor__kernel=rbf; total time=   0.0s\n",
      "[CV] END regressor__C=1, regressor__epsilon=0.1, regressor__gamma=scale, regressor__kernel=rbf; total time=   0.0s\n",
      "[CV] END regressor__C=1, regressor__epsilon=0.1, regressor__gamma=scale, regressor__kernel=rbf; total time=   0.0s\n",
      "[CV] END regressor__C=1, regressor__epsilon=0.1, regressor__gamma=scale, regressor__kernel=rbf; total time=   0.0s\n",
      "[CV] END regressor__C=1, regressor__epsilon=0.1, regressor__gamma=scale, regressor__kernel=rbf; total time=   0.0s\n",
      "[CV] END regressor__C=1, regressor__epsilon=0.1, regressor__gamma=scale, regressor__kernel=poly; total time=   0.0s\n",
      "[CV] END regressor__C=1, regressor__epsilon=0.1, regressor__gamma=scale, regressor__kernel=poly; total time=   0.0s\n",
      "[CV] END regressor__C=1, regressor__epsilon=0.1, regressor__gamma=scale, regressor__kernel=poly; total time=   0.0s\n",
      "[CV] END regressor__C=1, regressor__epsilon=0.1, regressor__gamma=scale, regressor__kernel=poly; total time=   0.0s\n",
      "[CV] END regressor__C=1, regressor__epsilon=0.1, regressor__gamma=scale, regressor__kernel=poly; total time=   0.0s\n",
      "[CV] END regressor__C=1, regressor__epsilon=0.1, regressor__gamma=auto, regressor__kernel=linear; total time=   0.0s\n",
      "[CV] END regressor__C=1, regressor__epsilon=0.1, regressor__gamma=auto, regressor__kernel=linear; total time=   0.0s\n",
      "[CV] END regressor__C=1, regressor__epsilon=0.1, regressor__gamma=auto, regressor__kernel=linear; total time=   0.0s\n",
      "[CV] END regressor__C=1, regressor__epsilon=0.1, regressor__gamma=auto, regressor__kernel=linear; total time=   0.0s\n",
      "[CV] END regressor__C=1, regressor__epsilon=0.1, regressor__gamma=auto, regressor__kernel=linear; total time=   0.0s\n",
      "[CV] END regressor__C=1, regressor__epsilon=0.1, regressor__gamma=auto, regressor__kernel=rbf; total time=   0.0s\n",
      "[CV] END regressor__C=1, regressor__epsilon=0.1, regressor__gamma=auto, regressor__kernel=rbf; total time=   0.0s\n",
      "[CV] END regressor__C=1, regressor__epsilon=0.1, regressor__gamma=auto, regressor__kernel=rbf; total time=   0.0s\n",
      "[CV] END regressor__C=1, regressor__epsilon=0.1, regressor__gamma=auto, regressor__kernel=rbf; total time=   0.0s\n",
      "[CV] END regressor__C=1, regressor__epsilon=0.1, regressor__gamma=auto, regressor__kernel=rbf; total time=   0.0s\n",
      "[CV] END regressor__C=1, regressor__epsilon=0.1, regressor__gamma=auto, regressor__kernel=poly; total time=   0.0s\n",
      "[CV] END regressor__C=1, regressor__epsilon=0.1, regressor__gamma=auto, regressor__kernel=poly; total time=   0.0s\n",
      "[CV] END regressor__C=1, regressor__epsilon=0.1, regressor__gamma=auto, regressor__kernel=poly; total time=   0.0s\n",
      "[CV] END regressor__C=1, regressor__epsilon=0.1, regressor__gamma=auto, regressor__kernel=poly; total time=   0.0s\n"
     ]
    }
   ],
   "source": [
    "# Ajustar hiperparâmetros\n",
    "grid_search = GridSearchCV(model_pipeline, param_grid, cv=5, scoring='r2', verbose=2)\n",
    "print(\"Treinando o modelo...\")\n",
    "grid_search.fit(X_train, y_train)"
   ]
  },
  {
   "cell_type": "code",
   "execution_count": 24,
   "metadata": {},
   "outputs": [
    {
     "name": "stdout",
     "output_type": "stream",
     "text": [
      "Melhores hiperparâmetros: {'regressor__C': 100, 'regressor__epsilon': 0.2, 'regressor__gamma': 'scale', 'regressor__kernel': 'linear'}\n"
     ]
    }
   ],
   "source": [
    "# Melhor modelo\n",
    "best_model = grid_search.best_estimator_\n",
    "print(f\"Melhores hiperparâmetros: {grid_search.best_params_}\")"
   ]
  },
  {
   "cell_type": "code",
   "execution_count": 25,
   "metadata": {},
   "outputs": [
    {
     "name": "stdout",
     "output_type": "stream",
     "text": [
      "R² Score: 0.21302382660974828\n"
     ]
    }
   ],
   "source": [
    "# Avaliação do modelo\n",
    "y_pred = best_model.predict(X_test)\n",
    "score = r2_score(y_test, y_pred)\n",
    "print(f\"R² Score: {score}\")"
   ]
  },
  {
   "cell_type": "code",
   "execution_count": 26,
   "metadata": {},
   "outputs": [
    {
     "data": {
      "image/png": "[encoded data removed]",
      "text/plain": [
       "<Figure size 800x600 with 1 Axes>"
      ]
     },
     "metadata": {},
     "output_type": "display_data"
    }
   ],
   "source": [
    "# Visualizar comparação entre valores reais e previstos\n",
    "plt.figure(figsize=(8, 6))\n",
    "sns.scatterplot(x=y_test, y=y_pred)\n",
    "plt.xlabel(\"Valores Reais\")\n",
    "plt.ylabel(\"Valores Previstos\")\n",
    "plt.title(\"Comparação entre Valores Reais e Previstos\")\n",
    "plt.show()"
   ]
  },
  {
   "cell_type": "code",
   "execution_count": 27,
   "metadata": {},
   "outputs": [
    {
     "name": "stdout",
     "output_type": "stream",
     "text": [
      "Predições salvas no arquivo 'grupo#_custos_estimados.csv'\n"
     ]
    }
   ],
   "source": [
    "# Prever novos dados e salvar resultados\n",
    "predictions = best_model.predict(features)\n",
    "predictions_df = pd.DataFrame(predictions, columns=['custo'])\n",
    "predictions_df.to_csv('grupo#_custos_estimados.csv', index=False)\n",
    "print(\"Predições salvas no arquivo 'grupo#_custos_estimados.csv'\")"
   ]
  },
  {
   "cell_type": "code",
   "execution_count": null,
   "metadata": {},
   "outputs": [],
   "source": []
  }
 ],
 "metadata": {
  "kernelspec": {
   "display_name": "base",
   "language": "python",
   "name": "python3"
  },
  "language_info": {
   "codemirror_mode": {
    "name": "ipython",
    "version": 3
   },
   "file_extension": ".py",
   "mimetype": "text/x-python",
   "name": "python",
   "nbconvert_exporter": "python",
   "pygments_lexer": "ipython3",
   "version": "3.12.7"
  }
 },
 "nbformat": 4,
 "nbformat_minor": 2
}
